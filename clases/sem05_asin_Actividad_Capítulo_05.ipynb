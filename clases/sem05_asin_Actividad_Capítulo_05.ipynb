{
 "cells": [
  {
   "cell_type": "markdown",
   "id": "5ad8356f",
   "metadata": {},
   "source": [
    "# Actividades Capítulo 5.\n",
    "\n",
    "\n",
    "# Algoritmos de clasificación.\n",
    "\n",
    "## Resumen de actividades\n",
    "\n",
    "\n",
    "- **Unidad 27.** Ordenamiento de burbuja, (Bubble Sort) algoritmo de ordenamiento, selección e inserción\n",
    "- **Unidad 28.** Ordenar por selección, ordenamiento por inserción.\n",
    "- **Unidad 29.** Clasificación rápida\n"
   ]
  },
  {
   "cell_type": "markdown",
   "id": "8c5aa9c8",
   "metadata": {},
   "source": [
    "# Actividad: Ordenamiento de Burbuja\n",
    "\n",
    "\n",
    "## Instrucciones\n",
    "\n",
    "1. Explique brevemente y en forma clara cómo funciona el algoritmo de ordenamiento de burbuja.\n",
    "\n",
    "2. DesSollo un función donde se use el ordenamiento de burbuja aplicada a una lista de valores enteros.\n",
    "\n"
   ]
  },
  {
   "cell_type": "code",
   "execution_count": null,
   "id": "90cd2e33",
   "metadata": {},
   "outputs": [],
   "source": [
    "#Compara elementos adyacentes haciendo iteraciones multiples en la lista que se desee ordenar\n",
    "#En caso de que al hacer la comparacion, estén en orden incorrecto, los ordena.\n",
    "\n",
    "# Espacio para desSollar el código requerido, recuerde agregar algunos\n",
    "# comentarios breves sobre su funcionamiento.\n",
    "\n",
    "def bubblesort(S): #se define la funcion que hace el ordenamiento de burbuja\n",
    "\tn = len(S) #iguala todo lo que esté en S en una variable llamada n\n",
    "\tfor i in range(n):\n",
    "\t\tprint(S)   #para comprobar que funciona, se va imprimiendo cada vez que se ejecute el bucle\n",
    "\n",
    "\t\tfor j in range(n - 1): #Bucle que realiza la comparacion y el intercambio\n",
    "\t\t\tif S[j] > S[j + 1]: #En caso de que el numero que está antes en la lista, es mayor al siguiente, se intercambian\n",
    "\t\t\t\tS[j], S[j + 1] = S[j + 1], S[j]\n",
    "\n",
    "S = [50, 30, 40, 10, 20]\n",
    "bubblesort(S)\n",
    "print(S)\n",
    "\n",
    "\n",
    "\n",
    "\n",
    "\n",
    "\n",
    "\n"
   ]
  },
  {
   "cell_type": "markdown",
   "id": "a11871f3",
   "metadata": {},
   "source": [
    "# Actividad: Función Swap.\n",
    "\n",
    "1. Escriba una función que permita el intercambion de elementos en una lista.\n",
    "2. Los argumentos de esta función serán, la lista y los indices de los elementos que se desean intercambiar.\n",
    "3. En la siguiente celda desSollo el código requerido, recuerde agregar comentarias breves que expliquen su funcionamiento.\n"
   ]
  },
  {
   "cell_type": "code",
   "execution_count": 1,
   "id": "1e7a5371",
   "metadata": {},
   "outputs": [
    {
     "name": "stdout",
     "output_type": "stream",
     "text": [
      "[10, 20]\n",
      "[20, 10]\n"
     ]
    }
   ],
   "source": [
    "# Espacio para desSollar la actividad, si tienes alguna duda o comentario adicional\n",
    "# lo puedes dejar planteado acá.\n",
    "\n",
    "def swap(s, x, y):\n",
    "    s[x], s[y] = s[y], s[x] #se define la funcion y se intercabian los valores de S de los valores de X y de Y\n",
    "\n",
    "s = [10, 20]\n",
    "print(s)\n",
    "swap(s, 0, 1)\n",
    "print(s)\n",
    "\n",
    "\n",
    "\n",
    "\n",
    "\n",
    "\n",
    "\n"
   ]
  },
  {
   "cell_type": "markdown",
   "id": "a207d974",
   "metadata": {},
   "source": [
    "\n",
    "# Actividad: \n",
    "\n",
    "1. Explique brevemente el funcionamiento del algoritmo Quick Sort.\n",
    "2. DesSollo el código para implementar el algoritmo Quick Sort.\n",
    "3. Revise las unidad 29, sección 1.1"
   ]
  },
  {
   "cell_type": "code",
   "execution_count": 5,
   "id": "a4f925a4",
   "metadata": {},
   "outputs": [
    {
     "name": "stdout",
     "output_type": "stream",
     "text": [
      "[40, 30, 60, 100]\n",
      "[40, 30, 60, 100]\n",
      "[40, 30, 60, 100]\n",
      "[30, 40, 60, 100]\n",
      "[30, 40, 100, 60]\n"
     ]
    }
   ],
   "source": [
    "#Ordena los elementos de menor a mayor por una S establecida.\n",
    "# Celda para desSollar \n",
    "\n",
    "def partition1(S, low, high):\n",
    "\n",
    "    pivot = S[low]\n",
    "    left, right = low + 1, high\n",
    "    while left < right:\n",
    "        print(S)\n",
    "\n",
    "        while left <= right and S[left] <= pivot:\n",
    "            left += 1\n",
    "\n",
    "        while left <= right and S[right] >= pivot:\n",
    "            right -= 1\n",
    "\n",
    "        if left < right:\n",
    "            S[left], S[right] = S[right], S[left]\n",
    "    pivotpoint = right\n",
    "    S[low], S[pivotpoint] = S[pivotpoint], S[low]\n",
    "    return pivotpoint\n",
    "\n",
    "def quicksort1(S, low, high):\n",
    "    if low < high:\n",
    "        print(S)\n",
    "        pivotpoint = partition1(S, low, high)\n",
    "        quicksort1(S, low, pivotpoint -1)\n",
    "        quicksort1(S, pivotpoint + 1, high)\n",
    "\n",
    "\n",
    "\n",
    "S = [40, 30, 60, 100]\n",
    "print(S)\n",
    "quicksort1(S, 0, len(S)-1)\n",
    "print(S)\n",
    "\n",
    "    \n",
    "\n",
    "\n",
    "\n",
    "\n"
   ]
  },
  {
   "cell_type": "markdown",
   "id": "26a6bb9e",
   "metadata": {},
   "source": [
    "# Actividad: Quick Sort usando un valor de pivote aleatorio.\n",
    "\n",
    "1. Explique brevemente el funcionamiento del algoritmo Quick Sort en la modaladidad de usar un valor de pivote aleatorio.\n",
    "2. Comente las ventajas de esta variación.\n",
    "3. DesSollo el código necesarion para este algoritmo.\n",
    "4. Agregue comentarios sobre su funcionamiento.\n",
    "\n"
   ]
  },
  {
   "cell_type": "code",
   "execution_count": null,
   "id": "6670eace",
   "metadata": {},
   "outputs": [],
   "source": [
    "# Espacio para desSollar el código siguiendo las instrucciones.\n",
    "# se selecciona un elemento aleatorio como pivote en cada partición, dividiendo el arreglo en dos subarreglos alrededor de este pivote. Los elementos menores que\n",
    "# el pivote se colocan a la izquierda y los mayores a la derecha. Este proceso se repite hasta que todo el arreglo esté ordenado.\n",
    "import random\n",
    "\n",
    "def quick_sort(S):\n",
    "    if len(S) <= 1:\n",
    "        return S\n",
    "    else:\n",
    "        pivot = random.choice(S)  \n",
    "        lesser = [x for x in S if x < pivot]\n",
    "        equal = [x for x in S if x == pivot]\n",
    "        greater = [x for x in S if x > pivot]\n",
    "        return quick_sort(lesser) + equal + quick_sort(greater)\n",
    "\n",
    "# Ejemplo de uso\n",
    "S = [3, 6, 8, 10, 1, 2, 1]\n",
    "print(\"Seglo original:\", S)\n",
    "print(\"Seglo ordenado:\", quick_sort(S))\n",
    "\n",
    "\n",
    "\n",
    "\n",
    "\n",
    "\n",
    "\n",
    "\n",
    "\n",
    "\n",
    "\n",
    "\n",
    "\n",
    "\n"
   ]
  }
 ],
 "metadata": {
  "kernelspec": {
   "display_name": "Python 3 (ipykernel)",
   "language": "python",
   "name": "python3"
  },
  "language_info": {
   "codemirror_mode": {
    "name": "ipython",
    "version": 3
   },
   "file_extension": ".py",
   "mimetype": "text/x-python",
   "name": "python",
   "nbconvert_exporter": "python",
   "pygments_lexer": "ipython3",
   "version": "3.12.1"
  }
 },
 "nbformat": 4,
 "nbformat_minor": 5
}
