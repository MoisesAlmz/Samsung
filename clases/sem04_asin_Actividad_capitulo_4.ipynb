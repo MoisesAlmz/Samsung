{
 "cells": [
  {
   "cell_type": "markdown",
   "id": "5d671b98",
   "metadata": {},
   "source": [
    "# Actividades Capítulo 4 - Estructuras de Datos\n",
    "\n",
    "Resumen de la actividad.\n",
    "\n",
    "\n",
    "- **1. Pilas y Colas**\n",
    "  - Actividad 1.2 - Implementar una Cola\n",
    "\n",
    "\n",
    "- **2. Búsqueda Secuencial**\n",
    "  - Actividad 2.1 - Búsqueda en una Lista\n",
    "\n",
    "\n",
    "- **3. Búsqueda Binaria**\n",
    "  - Actividad 3.1 - Búsqueda Binaria\n",
    "\n",
    "\n",
    "- **4. Tablas Hash**\n",
    "  - Actividad 4.1 - Implementar una Tabla Hash"
   ]
  },
  {
   "cell_type": "markdown",
   "id": "33866775",
   "metadata": {},
   "source": [
    "# Actividad: Implementación de una Pila en Python\n",
    "\n",
    "En esta actividad, tendrás la oportunidad de aplicar tus conocimientos sobre estructuras de datos y programación en Python para implementar una pila (stack). Una pila es una estructura de datos que sigue el principio \"Last-In-First-Out\" (LIFO), lo que significa que el último elemento que se agrega es el primero en ser eliminado.\n",
    "\n",
    "## Resumen:\n",
    "\n",
    "- **stack** = [ ]  # Recordando que una pila es básicamente una lista.\n",
    "- **append**: Método utilizado para agregar un elemento a la lista.\n",
    "- **pop**: Método usado para eliminar elementos de la lista, sino se especifica el índice se elimina el último elemento y retorna la lista resultante."
   ]
  },
  {
   "cell_type": "code",
   "execution_count": 5,
   "id": "fbb2dca1",
   "metadata": {},
   "outputs": [
    {
     "name": "stdout",
     "output_type": "stream",
     "text": [
      "{'A': [',Ana'], 'C': [',Carlos'], 'D': [',David'], 'E': [',Elena'], 'F': [',Fernando'], 'G': [',Gabriela'], 'H': [',Hugo'], 'I': [',Isabel'], 'J': [',Juan'], 'L': [',Luis', ',Lucía', ',Lorena'], 'M': [',Manuel', ',María', ',Miguel'], 'N': [',Natalia', ',Nicolás', ',Nora'], 'Ó': [',Óscar'], 'O': [',Olivia'], 'P': [',Pablo', ',Paula', ',Pedro'], 'R': [',Raquel', ',Rafael', ',Renata', ',Roberto', ',Rosario'], 'S': [',Sara', ',Sergio', ',Silvia'], 'T': [',Tomás', ',Teresa'], 'V': [',Víctor', ',Verónica'], 'X': [',Ximena', ',Xavier'], 'Y': [',Yolanda', ',Yenny'], 'Z': [',Zaira', ',Zoe', ',Zacarías']}\n",
      "[]\n"
     ]
    }
   ],
   "source": [
    "nombres_aleatorios = [\"Ana\", \"Carlos\", \"David\", \"Elena\", \"Fernando\", \"Gabriela\",\n",
    "                      \"Hugo\", \"Isabel\", \"Juan\", \"Luis\", \"Lucía\",\n",
    "                      \"Lorena\", \"Manuel\", \"María\", \"Miguel\", \"Natalia\",\n",
    "                      \"Nicolás\", \"Nora\", \"Óscar\", \"Olivia\", \"Pablo\", \"Paula\",\n",
    "                      \"Pedro\", \"Raquel\", \"Rafael\", \"Renata\", \"Roberto\", \"Rosario\",\n",
    "                      \"Sara\", \"Sergio\", \"Silvia\", \"Tomás\", \"Teresa\", \"Víctor\", \"Verónica\",\n",
    "                      \"Ximena\", \"Xavier\", \"Yolanda\", \"Yenny\", \"Zaira\", \"Zoe\", \"Zacarías\"]\n",
    "\n",
    "nombre_inicial = {}\n",
    "\n",
    "for nombre in nombres_aleatorios:\n",
    "    inicial = nombre[0]\n",
    "    \n",
    "    if inicial not in nombre_inicial:\n",
    "        nombre_inicial[inicial] = []\n",
    "\n",
    "for nombre in nombres_aleatorios:\n",
    "    inicial = nombre[0]\n",
    "\n",
    "    nombre_inicial[inicial].append(f\",{nombre}\")\n",
    "\n",
    "for nombre in range(len(nombres_aleatorios)):\n",
    "    nombres_aleatorios.pop()\n",
    "\n",
    "print(nombre_inicial)\n",
    "print(nombres_aleatorios)\n",
    "# Generar un código para revisar los nombres contenidos en la lista, y guardarlos en diferentes listas,\n",
    "# de acuerdo a la inicial del nombre, use los comandos usandos antenirmente y barra los elementos usando \n",
    "# el comando \"for nombre in nombres_aleatorios:\" al final del proceso la lista inicial debe quedar vacia."
   ]
  },
  {
   "cell_type": "markdown",
   "id": "490f04a8",
   "metadata": {},
   "source": [
    "# Actividad: Replique el código, mostrado en la presentación 36 correspondiente al capítulo 4.\n",
    "\n",
    "En este codódigo se muestra la creación de una clasa para crear una pila y hacer las actividades básicas correspondientes.\n",
    "\n",
    "- **__init__**: Creación de la pila.\n",
    "- **is_empty**: Verificación si la pila está vacia.\n",
    "- **push**: agregar elemento a la pila\n",
    "- **pop**:si la pila no está vacia eliminar el último de elemento.\n",
    "\n",
    "Use la notación mostrada en la presentacion 40, realice varias operaciones y comente brevemente los resultados (máximo 3 lineas), antes de pasar a la siguiente actividad asegurese de entender completamente la notación utilizada."
   ]
  },
  {
   "cell_type": "code",
   "execution_count": 31,
   "id": "950d71ca",
   "metadata": {},
   "outputs": [
    {
     "data": {
      "text/plain": [
       "False"
      ]
     },
     "execution_count": 31,
     "metadata": {},
     "output_type": "execute_result"
    }
   ],
   "source": [
    "# Escriba su código en está celda y todos los comentarios necesarios en la misma celda.\n",
    "\n",
    "#Se define la clase pila, la cual contiene 3 definiciones, una para saber si esta vacia o no\n",
    "#luego con push agrega algo mas a la pila\n",
    "#por ultimo, el pop no retorna nada si la pila esta vacia\n",
    "class Stack:\n",
    "\n",
    "    def __init__(self):\n",
    "        self.stack = []\n",
    "\n",
    "    def is_empty(self):\n",
    "        return True if len(self.stack) == 0 else False\n",
    "\n",
    "    def push(self, item):\n",
    "        self.stack.append(item)\n",
    "\n",
    "    def pop(self):\n",
    "        return None if self.is_empty() else self.stack.pop()\n",
    "\n",
    "stack = Stack()\n",
    "stack.push('M')\n",
    "stack.push('o')\n",
    "stack.push('i')\n",
    "stack.push('s')\n",
    "stack.push('e')\n",
    "stack.push('X')\n",
    "print(stack.pop())\n",
    "print(stack.pop())\n",
    "print(stack.pop())\n",
    "print(stack.pop())\n",
    "print(stack.pop())\n",
    "print(stack.pop())\n",
    "stack.is_empty()\n",
    "\n",
    "\n"
   ]
  },
  {
   "cell_type": "markdown",
   "id": "5f2fe9e8",
   "metadata": {},
   "source": [
    "# Actividad: Búsqueda secuencial.\n",
    "\n",
    "Se tiene una lista de 10 ciudades organizadas en función de la densidad de población, escriba una función para retornar la posición ocupada.\n"
   ]
  },
  {
   "cell_type": "code",
   "execution_count": 7,
   "id": "dec8954f",
   "metadata": {},
   "outputs": [
    {
     "name": "stdout",
     "output_type": "stream",
     "text": [
      "4\n"
     ]
    }
   ],
   "source": [
    "ciudades = [\n",
    "    \"Daca, Bangladés\",\n",
    "    \"Karachi, Pakistán\",\n",
    "    \"Nueva Delhi, India\",\n",
    "    \"Manila, Filipinas\",\n",
    "    \"Seúl, Corea del Sur\",\n",
    "    \"Cantón, China\",\n",
    "    \"Taipéi, Taiwán\",\n",
    "    \"Chenaral, Chile\",\n",
    "    \"Shenzhen, China\",\n",
    "    \"Bombay, India\"\n",
    "]\n",
    "\n",
    "def obtener_posicion(ciudades, ciudad):\n",
    "    # Espaciós para desarrollar el código\n",
    "    posicion = ciudades.index(ciudad)\n",
    "    posicion += 1 \n",
    "    return posicion\n",
    "\n",
    "posicion_ocupada = obtener_posicion(ciudades,\"Manila, Filipinas\")\n",
    "print(posicion_ocupada)"
   ]
  },
  {
   "cell_type": "markdown",
   "id": "9fffd532",
   "metadata": {},
   "source": [
    "# Actividad: Búsqueda binaria.\n",
    "\n",
    "- Escriba al menos una ventaja de la busqueda binaria.\n",
    "- Replique el código mostrado en la presentación 192.\n",
    "- Explique brevemente el funcionamiento del código, maximo 3 lineas.\n",
    "- Ingrese un piso de ruptura del huevo y calcule cuantas veces se realiza la revisión para encontrar el piso seguro.(Se puede agrear algún contador dentro del código para verificar)\n"
   ]
  },
  {
   "cell_type": "code",
   "execution_count": 4,
   "id": "bdc866e2",
   "metadata": {},
   "outputs": [
    {
     "name": "stdout",
     "output_type": "stream",
     "text": [
      "0 7 3\n",
      "4 7 5\n",
      "4 4 4\n",
      "En S, 37 esta en la posicion 4\n"
     ]
    }
   ],
   "source": [
    "# Espacio para replicar el código.\n",
    "S = [11, 17, 26, 28, 37, 45, 53, 59]\n",
    "def busqueda_binaria(nums, x):\n",
    "    bajo, alto = 0, len(nums) - 1\n",
    "    while bajo <= alto:\n",
    "        med = (bajo + alto) // 2\n",
    "        print(bajo, alto, med)\n",
    "        if nums[med] == x:\n",
    "            return med\n",
    "        elif nums[med] > x:\n",
    "            alto = med - 1\n",
    "        else:\n",
    "            bajo = med + 1\n",
    "    return -1\n",
    "\n",
    "x = int(input(\"Diga el número a buscar: \"))\n",
    "pos = busqueda_binaria(S, x)\n",
    "print(f\"En S, {x} esta en la posicion {pos}\")\n",
    "\n",
    "\n",
    "# Espacio para explicar funcionamiento.\n",
    "#Primero se declara una lista la cual esté ordenada de menor a mayor, luego se crea la función para la busqueda binaria\n",
    "# se declara bajo con un valor de cero y el alto igual al ultimo numero de la  lista, el codigo se posiciona en el medio de la lista\n",
    "#y si el valor a buscar es mayor  que el medio, busca entre los que estan encima, sino entre los que  están abajo.\n",
    "\n",
    "# Cálculo y verificación del número de veces que se realiza la verificación.\n",
    "#Si se ingresa el 37, se posiciona en el mdeio y al ver que el 37 esta por encima del medio, suma 1 y busca entre la posicion de 4 a 7,\n",
    "#se posiciona en el medio y si la posicion está por encima o por debajo del medio de esta parte, se fija que está por debabjo de la posición 5,\n",
    "#la cual sería la 4, pero ya se confirmó que está por encima de la posicion 3 y por debajo de la 5, por lo cual, es la posición 4, esto tomaría\n",
    "#3 pasos.\n",
    "\n"
   ]
  },
  {
   "cell_type": "markdown",
   "id": "eb266a1e",
   "metadata": {},
   "source": [
    "# Actividad: Definir una tabla Hash tipo diccionario.\n",
    "\n",
    "En la siguiente celda se muestrar como crear un diccionario, como agregar elementos, como eliminar elementos,\n",
    "como verificar si la key existe en el diccionario, basados en este código agregue otros elementos, comente los resultados, si tienes alguna duda también la puedes escribir. (Use máximo 3 líneas en la explicación)\n"
   ]
  },
  {
   "cell_type": "code",
   "execution_count": 37,
   "id": "f48163a5",
   "metadata": {},
   "outputs": [
    {
     "name": "stdout",
     "output_type": "stream",
     "text": [
      "Nombre: Juan\n",
      "Edad: 30\n",
      "Ciudad: Nueva York\n",
      "Padre: Juan I\n",
      "Madre: Juana\n",
      "Ciudadania: Dominicana\n",
      "Antecedentes penales: Atraco a Bank of New York Mellon\n",
      "Las claves 'ciudad' y Antecedentes penales no están en el diccionario.\n"
     ]
    }
   ],
   "source": [
    "#Agregando de manera manual los valores ingresados, les hice unas modificaciones al codigo, en las cuales marco como \"#agregados\"\n",
    "#los cuales haran modificaciones a la hora de presentar los datos atraves de la clave\n",
    "\n",
    "# Crear un diccionario vacío\n",
    "mi_diccionario = {}\n",
    "\n",
    "# Agregar elementos al diccionario\n",
    "mi_diccionario[\"nombre\"] = \"Juan\"\n",
    "mi_diccionario[\"edad\"] = 30\n",
    "mi_diccionario[\"ciudad\"] = \"Nueva York\"\n",
    "#agregados\n",
    "mi_diccionario[\"Padre\"] = \"Juan I\"\n",
    "mi_diccionario[\"Madre\"] = \"Juana\"\n",
    "mi_diccionario[\"Ciudadania\"] = \"Dominicana\"\n",
    "mi_diccionario[\"Antecedentes penales\"] = \"Atraco a Bank of New York Mellon\"\n",
    "\n",
    " \n",
    "# Acceder a los valores por clave\n",
    "print(\"Nombre:\", mi_diccionario[\"nombre\"])\n",
    "print(\"Edad:\", mi_diccionario[\"edad\"])\n",
    "print(\"Ciudad:\", mi_diccionario[\"ciudad\"])\n",
    "#agregados\n",
    "print(\"Padre:\", mi_diccionario[\"Padre\"])\n",
    "print(\"Madre:\", mi_diccionario[\"Madre\"])\n",
    "print(\"Ciudadania:\", mi_diccionario[\"Ciudadania\"])\n",
    "print(\"Antecedentes penales:\", mi_diccionario[\"Antecedentes penales\"])\n",
    "\n",
    "# Modificar un valor existente\n",
    "mi_diccionario[\"edad\"] = 31\n",
    "\n",
    "# Eliminar un elemento del diccionario\n",
    "del mi_diccionario[\"ciudad\"]\n",
    "#agregados\n",
    "del mi_diccionario[\"Antecedentes penales\"]\n",
    "\n",
    "# Verificar si una clave existe en el diccionario\n",
    "if \"ciudad\" and \"Antecedentes penales\" in mi_diccionario:\n",
    "    print(\"Las claves 'ciudad' y Antecedentes penales están en el diccionario.\")\n",
    "else:\n",
    "    print(\"Las claves 'ciudad' y Antecedentes penales no están en el diccionario.\")\n",
    "\n"
   ]
  }
 ],
 "metadata": {
  "kernelspec": {
   "display_name": "Python 3",
   "language": "python",
   "name": "python3"
  },
  "language_info": {
   "codemirror_mode": {
    "name": "ipython",
    "version": 3
   },
   "file_extension": ".py",
   "mimetype": "text/x-python",
   "name": "python",
   "nbconvert_exporter": "python",
   "pygments_lexer": "ipython3",
   "version": "3.12.1"
  }
 },
 "nbformat": 4,
 "nbformat_minor": 5
}
