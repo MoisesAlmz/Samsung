{
 "cells": [
  {
   "cell_type": "markdown",
   "id": "49909eb6",
   "metadata": {},
   "source": [
    "# Coding and Programming\n",
    "\n",
    "## Capítulo 6\n",
    "\n",
    "### Resolución de problemas con algoritmos\n",
    "\n",
    "- **Unidad 30.** Enfoque Greedy algoritmos voraces o ávidos.\n",
    "- **Unidad 31.** Divide y vencerás\n",
    "- **Unidad 32.** Programación dinámica\n",
    "- **Unidad 33.** Backtracking\n"
   ]
  },
  {
   "cell_type": "markdown",
   "id": "2e42031a",
   "metadata": {},
   "source": [
    "___"
   ]
  },
  {
   "cell_type": "markdown",
   "id": "780f0fff",
   "metadata": {},
   "source": [
    "## Q 30-01\n",
    "\n",
    "Este es el problema del intercambio de monedas.\n",
    "\n",
    "Tienes una moneda de 400 wones.\n",
    "\n",
    "Escriba el resultado de cómo el algoritmo `coin_change()` determina el cambio de la moneda de 800 wones.\n",
    "```\n",
    "coins  = [500, 400, 100, 50, 10]\n",
    "amount = int(input(\"Ingrese la cantidad: \"))\n",
    "changes= coin_change(coins, amount)\n",
    "print(changes, len(changes))\n",
    "\n",
    "Ingrese la cantidad: 800\n",
    "```"
   ]
  },
  {
   "cell_type": "markdown",
   "id": "8d0b8eb8",
   "metadata": {},
   "source": [
    "[500, 100, 100, 100] 4"
   ]
  },
  {
   "cell_type": "markdown",
   "id": "ca15d3cf",
   "metadata": {},
   "source": [
    "___"
   ]
  },
  {
   "cell_type": "markdown",
   "id": "89395b47",
   "metadata": {},
   "source": [
    "## Q 31-01\n",
    "\n",
    "Tienes 8 monedas idénticas numeradas del 1 al 8. De estas, solo una moneda es más pesada que la otra.\n",
    "\n",
    "Suponiendo que puede pesar monedas con una balanza equilibrada, diseñe un algoritmo que encuentre la moneda más pesada.\n",
    "\n",
    "En este momento, ¿cuántas veces se debe usar al menos la balanza?"
   ]
  },
  {
   "cell_type": "code",
   "execution_count": 5,
   "id": "3110520b",
   "metadata": {},
   "outputs": [
    {
     "name": "stdout",
     "output_type": "stream",
     "text": [
      "La más pesada es:  8\n"
     ]
    }
   ],
   "source": [
    "def mayor_peso(monedero):\n",
    "    if len(monedero) == 1:\n",
    "        return monedero[0]\n",
    "    elif len(monedero) == 2:\n",
    "        return max(monedero)\n",
    "    \n",
    "    division_grupos = len (monedero) // 3\n",
    "    primer_grupo = monedero[:division_grupos]\n",
    "    segundo_grupo = monedero[division_grupos:2*division_grupos]\n",
    "    tercer_grupo = monedero[2*division_grupos:]\n",
    "\n",
    "    mas_pesada = max(primer_grupo, segundo_grupo, tercer_grupo, key=sum)\n",
    "\n",
    "    return mayor_peso(mas_pesada)\n",
    "\n",
    "monedas = [1,2,3,4,5,6,7,8]\n",
    "\n",
    "pesa_mas = int(mayor_peso(monedas))\n",
    "print(\"La más pesada es: \", pesa_mas)"
   ]
  },
  {
   "cell_type": "markdown",
   "id": "8d05fa5e",
   "metadata": {},
   "source": [
    "Al dividir cada grupo en 3 monedas, se pesan dos grupos de 3 monedas en cada balanza, si queda equilibrada, quiere decir que todas pesan lo mismo, por ende, la moneda más pesada está en una de las dos sobrantes. En este caso como maximo se utilizaría dos veces la balanza. Y si la balanza se inclina para un lado, se hace la medicion entre dos de las monedas de ese lado que se inclinó y lo mismo, si se mantiene equilibrada es porque la moneda más pesada fue la que no se colocó a medir."
   ]
  },
  {
   "cell_type": "markdown",
   "id": "9c37e736",
   "metadata": {},
   "source": [
    "___"
   ]
  },
  {
   "cell_type": "markdown",
   "id": "6f047403",
   "metadata": {},
   "source": [
    "## Q 31-02\n",
    "\n",
    "Hay nueve monedas idénticas numeradas del 1 al 9 en el problema anterior.\n",
    "\n",
    "Diseñe un algoritmo para encontrar una moneda pesada en este caso.\n",
    "\n",
    "En este momento, ¿cuántas veces se debe usar al menos la balanza?"
   ]
  },
  {
   "cell_type": "code",
   "execution_count": null,
   "id": "3c65c065",
   "metadata": {},
   "outputs": [],
   "source": [
    "def mayor_peso(monedero):\n",
    "    if len(monedero) == 1:\n",
    "        return monedero[0]\n",
    "    elif len(monedero) == 2:\n",
    "        return max(monedero)\n",
    "    \n",
    "    division_grupos = len (monedero) // 3\n",
    "    primer_grupo = monedero[:division_grupos]\n",
    "    segundo_grupo = monedero[division_grupos:2*division_grupos]\n",
    "    tercer_grupo = monedero[2*division_grupos:]\n",
    "\n",
    "    mas_pesada = max(primer_grupo, segundo_grupo, tercer_grupo, key=sum)\n",
    "\n",
    "    return mayor_peso(mas_pesada)\n",
    "\n",
    "monedas = [1,2,3,4,5,6,7,8, 9]\n",
    "\n",
    "pesa_mas = int(mayor_peso(monedas))\n",
    "print(\"La más pesada es: \", pesa_mas)"
   ]
  },
  {
   "cell_type": "markdown",
   "id": "41e80a15",
   "metadata": {},
   "source": [
    "Sigue la misma logica que el anterior, solo que en esta en el peor de los casos, se tendría que utilizar 3 veces dicha balanza.\n"
   ]
  },
  {
   "cell_type": "markdown",
   "id": "0453c475",
   "metadata": {},
   "source": [
    "___"
   ]
  },
  {
   "cell_type": "markdown",
   "id": "881569fc",
   "metadata": {},
   "source": [
    "## Q 32-01\n",
    "\n",
    "Analice el resultado de la ejecución del siguiente código y compárelo con el rendimiento de las funciones `fib1()`, `fib2()` y `fib3()`.\n",
    "```\n",
    "def fib4(n):\n",
    "    if n <= 1:\n",
    "        return n\n",
    "    else:\n",
    "        a,b = 0,1\n",
    "        for i in range(2, n + 1):\n",
    "            a,b = b,a+b\n",
    "        return b\n",
    "\n",
    "N = int(input(\"Ingrese un numero: \"))\n",
    "print(fib4(N))\n",
    "\n",
    "\n",
    "Ingrese un numero:\n",
    "```\n"
   ]
  },
  {
   "cell_type": "code",
   "execution_count": 8,
   "id": "375e0a37",
   "metadata": {},
   "outputs": [
    {
     "name": "stdout",
     "output_type": "stream",
     "text": [
      "55\n"
     ]
    }
   ],
   "source": [
    "def fib4(n):\n",
    "    if n <= 1:\n",
    "        return n\n",
    "    else:\n",
    "        a,b = 0,1\n",
    "        for i in range(2, n + 1):\n",
    "            a,b = b,a+b\n",
    "        return b\n",
    "\n",
    "N = int(input(\"Ingrese un numero: \"))\n",
    "print(fib4(N))"
   ]
  },
  {
   "cell_type": "markdown",
   "id": "25354b5c",
   "metadata": {},
   "source": [
    "En caso de n ser igual o menor a 1, retorna el valor de N, sino, iguala una variable a igual a 0 y una b a 1, entonces crea un bucle para un iterador en el rango de 2 hasta n + 1, mientras esto se cumpla, a va a tener el valor de b y a b se le va a sumar el valor de a+b, retornando al final, b.\n",
    "\n",
    "En comparacion de los demás, este brinda mayor eficiencia y simplicidad."
   ]
  },
  {
   "cell_type": "markdown",
   "id": "60d998bd",
   "metadata": {},
   "source": [
    "___"
   ]
  },
  {
   "cell_type": "markdown",
   "id": "1087c522",
   "metadata": {},
   "source": [
    "## Q 32-02\n",
    "\n",
    "Analice el resultado de la ejecución del siguiente código y compárelo con el rendimiento de las funciones `bin1()` y `bin2()`.\n",
    "```\n",
    "def bin3(n,k):\n",
    "    B = [0] * (n + 1)\n",
    "    for i in range(n + 1):\n",
    "        for j in range(n, -1, -1):\n",
    "            if j==0 or j==i:\n",
    "                B[j] = 1\n",
    "            else:\n",
    "                B[j] = B[j] B[j-1]\n",
    "    return B[k]\n",
    "\n",
    "\n",
    "for i in range(10):\n",
    "    for j in range(i+1):\n",
    "        print(bin3(i,j),end=\" \")\n",
    "    print()\n",
    "```"
   ]
  },
  {
   "cell_type": "code",
   "execution_count": 2,
   "id": "80f05b98",
   "metadata": {},
   "outputs": [
    {
     "name": "stdout",
     "output_type": "stream",
     "text": [
      "1 \n",
      "1 1 \n",
      "1 2 1 \n",
      "1 3 3 1 \n",
      "1 4 6 4 1 \n",
      "1 5 10 10 5 1 \n",
      "1 6 15 20 15 6 1 \n",
      "1 7 21 35 35 21 7 1 \n",
      "1 8 28 56 70 56 28 8 1 \n",
      "1 9 36 84 126 126 84 36 9 1 \n"
     ]
    }
   ],
   "source": [
    "def bin3(n,k):\n",
    "    B = [0] * (n + 1)\n",
    "    for i in range(n + 1):\n",
    "        for j in range(n, -1, -1):\n",
    "            if j==0 or j==i:\n",
    "                B[j] = 1\n",
    "            else:\n",
    "                B[j] = B[j] + B[j-1]\n",
    "    return B[k]\n",
    "\n",
    "\n",
    "for i in range(10):\n",
    "    for j in range(i+1):\n",
    "        print(bin3(i,j),end=\" \")\n",
    "    print()"
   ]
  },
  {
   "cell_type": "markdown",
   "id": "a0df2e98",
   "metadata": {},
   "source": [
    "A diferencia de los anteriores, este toma los valores de i y j en un rango de 10 - 1 en  i y de 10 en J.\n",
    "\n",
    "Este funciona de manera más efectiva debido a que utiliza for's anidados los cuales al no tener que guardar valores de variables, utilizan menos espacios de memoria."
   ]
  },
  {
   "cell_type": "markdown",
   "id": "7cef2a44",
   "metadata": {},
   "source": [
    "___"
   ]
  },
  {
   "cell_type": "markdown",
   "id": "d36e67d4",
   "metadata": {},
   "source": [
    "## Q 33-01\n",
    "\n",
    "Si reemplaza cada letra con un número en la siguiente letra, el número correspondiente a las cinco palabras son todos cuadrados.\n",
    "\n",
    "Para cada palabra, la suma de cada dígito también es un número cuadrado.\n",
    "\n",
    "Encuentra el número representado por cada letra.\n",
    "\n",
    "**Código de referencia:**"
   ]
  },
  {
   "cell_type": "code",
   "execution_count": 2,
   "id": "13991ae0",
   "metadata": {},
   "outputs": [
    {
     "name": "stdout",
     "output_type": "stream",
     "text": [
      "A: 9\n",
      "TO: 81\n",
      "ALL: 900\n",
      "XMAS: 7396\n",
      "MERRY: 34225\n",
      "Elapsed Time: 0.0 seconds\n"
     ]
    }
   ],
   "source": [
    "from math import sqrt, floor\n",
    "import time\n",
    "\n",
    "\n",
    "def is_square_digitsum(n):\n",
    "    S = 0  # Se inicializa la variable S\n",
    "    while n > 0:\n",
    "        S += n % 10  # Se corrige el error, se suma el dígito a la variable S\n",
    "        n //= 10  # Se corrige el error, se utiliza operador de división entera\n",
    "    if sqrt(S) == int(sqrt(S)):\n",
    "        return True\n",
    "    return False\n",
    "\n",
    "\n",
    "def find_all_squares():\n",
    "    sqrs = [[] for _ in range(5)]\n",
    "    for i in range(1, floor(sqrt(10 ** 5)) + 1):\n",
    "        n = i * i\n",
    "        if not is_square_digitsum(n):\n",
    "            continue\n",
    "        s = str(n)\n",
    "        if len(s) == 3 and s[1] != s[2]:\n",
    "            continue\n",
    "        if len(s) == 5 and s[2] != s[3]:\n",
    "            continue\n",
    "        if len(s) in [4, 5] and len(set(s)) != 4:\n",
    "            continue\n",
    "        sqrs[len(s) - 1].append(n)\n",
    "    return sqrs\n",
    "\n",
    "\n",
    "def promising(s, n, dic):\n",
    "    for i in range(len(s)):\n",
    "        digit = int(str(n)[i])\n",
    "        for key, value in dic.items():\n",
    "            if key == s[i] and value != digit:\n",
    "                return False\n",
    "            if value == digit and key != s[i]:\n",
    "                return False\n",
    "    return True\n",
    "\n",
    "\n",
    "def solve(words, dic, squares):\n",
    "    global solved\n",
    "    if len(words) == 0:\n",
    "        solved = dic\n",
    "    else:\n",
    "        s = words[0]\n",
    "        candidates = squares[len(s) - 1]\n",
    "        for n in candidates:\n",
    "            if promising(s, n, dic):\n",
    "                newdic = dic.copy()\n",
    "                for i in range(len(s)):\n",
    "                    newdic[s[i]] = int(str(n)[i])\n",
    "                solve(words[1:], newdic, squares)\n",
    "\n",
    "\n",
    "def main():\n",
    "    squares = find_all_squares()\n",
    "    words = ['A', 'TO', 'ALL', 'XMAS', 'MERRY']\n",
    "    dic = {}\n",
    "    solve(words, dic, squares)\n",
    "    for word in words:\n",
    "        print(word, end=\": \")\n",
    "        for c in word:\n",
    "            print(solved[c], end=\"\")\n",
    "        print()\n",
    "\n",
    "\n",
    "start = time.time()\n",
    "solved = {}\n",
    "main()\n",
    "end = time.time()\n",
    "print(\"Elapsed Time:\", end - start, \"seconds\")\n"
   ]
  },
  {
   "cell_type": "markdown",
   "id": "0a7153c2",
   "metadata": {},
   "source": [
    "A: 169\n",
    "TO: 144\n",
    "ALL: 961\n",
    "XMAS: 7225\n",
    "MERRY: 7396\n",
    "\n",
    "A: 169 (13^2), donde 1+6+9=16 (4^2)\n",
    "\n",
    "TO: 144 (12^2), donde 1+4+4=9 (3^2)\n",
    "\n",
    "ALL: 961 (31^2), donde 9+6+1=16 (4^2)\n",
    "\n",
    "XMAS: 7225 (85^2), donde 7+2+2+5=16 (4^2)\n",
    "\n",
    "MERRY: 7396 (86^2), donde 7+3+9+6=25 (5^2)"
   ]
  },
  {
   "cell_type": "markdown",
   "id": "c815e543",
   "metadata": {},
   "source": [
    "# Fin"
   ]
  }
 ],
 "metadata": {
  "kernelspec": {
   "display_name": "Python 3 (ipykernel)",
   "language": "python",
   "name": "python3"
  },
  "language_info": {
   "codemirror_mode": {
    "name": "ipython",
    "version": 3
   },
   "file_extension": ".py",
   "mimetype": "text/x-python",
   "name": "python",
   "nbconvert_exporter": "python",
   "pygments_lexer": "ipython3",
   "version": "3.12.1"
  }
 },
 "nbformat": 4,
 "nbformat_minor": 5
}
