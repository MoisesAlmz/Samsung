{
 "cells": [
  {
   "cell_type": "markdown",
   "id": "49909eb6",
   "metadata": {},
   "source": [
    "# Actividades Capítulo 6.\n",
    "\n",
    "\n",
    "# Algoritmos de clasificación.\n",
    "\n",
    "## Resumen de actividades\n",
    "\n",
    "- **Unidad 30.** Enfoque Greedy algoritmos voraces o ávidos.\n",
    "- **Unidad 31.** Divide y vencerás\n",
    "- **Unidad 32.** Programación dinámica\n",
    "- **Unidad 33.** Retroceso\n"
   ]
  },
  {
   "cell_type": "markdown",
   "id": "780f0fff",
   "metadata": {},
   "source": [
    "# Actividad: Algoritmos Greedy.\n",
    "\n",
    "\n",
    "## Instrucciones\n",
    "\n",
    "1. Explique brevemente y en forma clara qué es un algoritmo Greedy y como funciona..\n",
    "\n",
    "2. Enumera algunas ventajas.\n",
    "\n",
    "3. Enumera algunas desventajas.\n",
    "\n",
    "4. Escriba el código desarrollado con el enfoque Greeddy para el problema de cambio de monedas, haga diferentes pruebas cambian las entradas (recuerde que las entrada de este algoritmo son las monedas disponibles y la cantida que se desea cubrir, con estas entradas el algoritmo debe retornar la combinación de monedas que cubre el monto solicitado, minimizando la cantidad de monedas usadas)\n",
    "\n",
    "5. Ahora pruebe los resultados con siguientes entradas: monedas_disponibles = [11, 5, 1] para cubrer la cantidad de 15, observe los resultados, haga algunas analísis de lo que pasaria con esta combinación de entradas.\n"
   ]
  },
  {
   "cell_type": "code",
   "execution_count": 2,
   "id": "21a779a5",
   "metadata": {},
   "outputs": [
    {
     "name": "stdout",
     "output_type": "stream",
     "text": [
      "[11, 1, 1, 1, 1] 5\n"
     ]
    }
   ],
   "source": [
    "# Espacio disponible para desarrollar el código y agregar los comentarios necesarios.\n",
    "\n",
    "#1. Es un tipo de algoritmo utilizado para lograr una mejor eleccion de una secuencia\n",
    "#en base a criterios establecidos  anteriormente.\n",
    "#2. Ventajas: Simplicidad, eficiencia, soluciones rapidas\n",
    "#3. Desventajas: No siempre es aplicable, dependencia de la eleccion de la funcion\n",
    "#   de eleccion \n",
    "\n",
    "#4 y 5:\n",
    "\n",
    "def cambio_moneda(moneda, monto):\n",
    "    cambios = []\n",
    "    largo = 0\n",
    "    while monto > 0:\n",
    "        if monto < moneda[largo]:\n",
    "            largo += 1\n",
    "        else:\n",
    "            cambios.append(moneda[largo]) \n",
    "            monto -= moneda[largo]\n",
    "    return cambios   \n",
    "\n",
    "moneda = [11, 5, 1]\n",
    "monto = int(input(\"Ingrese el monto: \"))\n",
    "cambios = cambio_moneda(moneda, monto)\n",
    "print(cambios, len(cambios))\n",
    "\n",
    "\n",
    "\n"
   ]
  },
  {
   "cell_type": "markdown",
   "id": "89395b47",
   "metadata": {},
   "source": [
    "# Actividad: Replique el código de la búsqueda de la trayectoria triangular mínima.\n",
    "\n",
    "\n",
    "## Instrucciones\n",
    "\n",
    "\n",
    "1. Replique el código mostrado en la unidad 31.\n",
    "\n",
    "2. Analice el código replicado y agregue una explicíon sonbre su funcionamiento.\n",
    "\n",
    "3. Haga diferentes pruebas cambiando la entrada.\n"
   ]
  },
  {
   "cell_type": "code",
   "execution_count": 7,
   "id": "d446e273",
   "metadata": {},
   "outputs": [
    {
     "name": "stdout",
     "output_type": "stream",
     "text": [
      "El costo minimo es:  7\n"
     ]
    }
   ],
   "source": [
    "# Espacio para desarrollar el código y agregar los comentarios necesarios.\n",
    "\n",
    "def busqueda_minima(fila, col, triangulo):\n",
    "    if fila == len(triangulo):\n",
    "        return 0\n",
    "    \n",
    "    else:\n",
    "        minima = min(busqueda_minima(fila + 1, col, triangulo), busqueda_minima(fila + 1, col + 1, triangulo))\n",
    "\n",
    "        return triangulo[fila][col] + minima\n",
    "\n",
    "triangulo = [\n",
    "      [1],\n",
    "     [3, 2],\n",
    "    [6,3,7],\n",
    "    [4,1,8,3]\n",
    "]\n",
    "\n",
    "minima = busqueda_minima(0, 0, triangulo)\n",
    "print(\"El costo minimo es: \", minima)\n",
    "\n",
    "#Explicacion: Define la funcion para hacer la busqueda, con los parametros fila, columna y triangulo, si la fila es igual al tamaño del triangulo\n",
    "#quiere decir que dicho recorrido terminó, y retorna 0. Sino, la variable minima calcula el costo minimo entre las dos opciones establecidas, o sea,\n",
    "# el costo minimo de avanzar a la siguiente fila y mantener la misma columna,  y el costo minimo de avanzar a la siguiente fila y avanzar a la siguiente,\n",
    "#columna. Retorna la suma del valor actual del triangulo en la posicion [fila][col] y el costo minimo calculado en el paso anterior.\n",
    "\n",
    "\n"
   ]
  },
  {
   "cell_type": "markdown",
   "id": "881569fc",
   "metadata": {},
   "source": [
    "# Actividad: Búsqueda binaria con iteración.\n",
    "\n",
    "\n",
    "## Instrucciones\n",
    "\n",
    "\n",
    "1. Replique el código mostrado en la unidad 31.\n",
    "\n",
    "2. Analice el código replicado y agregue una explicíon sonbre su funcionamiento.\n",
    "\n",
    "3. Explique por qué es necesario usar usar una función recursiva.\n",
    "\n",
    "4. Haga diferentes pruebas cambiando la entrada.\n"
   ]
  },
  {
   "cell_type": "code",
   "execution_count": null,
   "id": "0b1f525d",
   "metadata": {},
   "outputs": [],
   "source": [
    "# Espacio para desarrollar el código y agregar los comentarios necesarios.\n",
    "\n",
    "def bin_search(nums, x):\n",
    "    low, high = 0, len(nums) - 1\n",
    "\n",
    "    while low <= high:\n",
    "        mid = (low + high) // 2\n",
    "        if nums[mid] == x:\n",
    "            return mid\n",
    "        elif nums[mid] > x:\n",
    "            high = mid -1\n",
    "        else: low = mid + 1\n",
    "    \n",
    "    return -1\n",
    "\n",
    "#Explicacion: se desarrolla la busqueda binaria, declarando los valores bajo y alto, desde cero hasta el ultimo\n",
    "#numero en la lista nums, mientras low sea menor o igual a high, mid va a ser igual a la suma de ambos dividido entre 2\n",
    "#si nums con mid como parametro es igual a X, se retorna el valor de x\n",
    "#si nums mid  es mayor que X, se establece que high es igual a mid -1, sino, low es igual a mid +1\n",
    "\n",
    "\n",
    "\n",
    "\n",
    "\n"
   ]
  },
  {
   "cell_type": "markdown",
   "id": "1087c522",
   "metadata": {},
   "source": [
    " Actividad: Comparación entre programación dinámica y la metodología divide y venceras.\n",
    "\n",
    "\n",
    "## Instrucciones\n",
    "\n",
    "\n",
    "1. Enumera las diferencias entre los dos efoques.\n",
    "\n",
    "2. Nombre algunos casos donde funcionam mejor la programación dinámica.\n",
    "\n",
    "3. Nombre ejemplos donde es suficiente usar el enfoque divide y venceras.\n",
    "\n",
    "\n",
    "\n",
    "**Espación para desarrollar la actividad:**\n",
    "\n",
    "\n",
    "\n",
    "\n",
    "\n",
    "\n",
    "\n",
    "\n",
    "\n",
    "\n"
   ]
  },
  {
   "cell_type": "code",
   "execution_count": null,
   "id": "7aacf433",
   "metadata": {},
   "outputs": [],
   "source": [
    "#1. Enumera las diferencias entre los dos efoques.\n",
    "#   La programacion dinamica resuelve subproblemas solapados y optimizar soluciones a traves de memorizacion, mientras que divide y vencerás\n",
    "#   descompone problemas en subproblemas mas simples e independientes que se resuelven recursivamente.\n",
    "\n",
    "#2. Nombre algunos casos donde funcionam mejor la programación dinámica.\n",
    "#Problemas de optimizacion\n",
    "#Problemas con subestructura optima\n",
    "#Problemas de secuencia\n",
    "\n",
    "#3. Nombre ejemplos donde es suficiente usar el enfoque divide y venceras.\n",
    "#Ordenamiento\n",
    "#busqueda binaria\n"
   ]
  }
 ],
 "metadata": {
  "kernelspec": {
   "display_name": "Python 3 (ipykernel)",
   "language": "python",
   "name": "python3"
  },
  "language_info": {
   "codemirror_mode": {
    "name": "ipython",
    "version": 3
   },
   "file_extension": ".py",
   "mimetype": "text/x-python",
   "name": "python",
   "nbconvert_exporter": "python",
   "pygments_lexer": "ipython3",
   "version": "3.12.1"
  }
 },
 "nbformat": 4,
 "nbformat_minor": 5
}
