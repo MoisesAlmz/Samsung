{
 "cells": [
  {
   "cell_type": "markdown",
   "id": "5ad8356f",
   "metadata": {},
   "source": [
    "# Actividades Capítulo 3.\n",
    "\n",
    "\n",
    "# Concepto básico de programación e inicio en Python\n",
    "\n",
    "## Resumen de actividades\n",
    "\n",
    "\n",
    "- **Unidad 17.** Función\n",
    "- **Unidad 18.** Llamada a la función de recurrencia.\n",
    "- **Unidad 19.** Lambda\n",
    "- **Unidad 20.** Clausura\n",
    "- **Unidad 21.** Clase\n"
   ]
  },
  {
   "cell_type": "markdown",
   "id": "8c5aa9c8",
   "metadata": {},
   "source": [
    "# Actividad: Creacion de funciones.\n",
    "\n",
    "\n",
    "## Instrucciones\n",
    "\n",
    "1. Defina en forma breve el concepto de función.\n",
    "\n",
    "2. Crear una función para realizar la suma de los números impares en el rango de 0 a 100, dentro de la función imprima los valores sumados y al final retorne el resultado de la sumatoria.\n"
   ]
  },
  {
   "cell_type": "code",
   "execution_count": 1,
   "id": "90cd2e33",
   "metadata": {},
   "outputs": [
    {
     "name": "stdout",
     "output_type": "stream",
     "text": [
      "Valor sumado:   1\n",
      "Valor sumado:   3\n",
      "Valor sumado:   5\n",
      "Valor sumado:   7\n",
      "Valor sumado:   9\n",
      "Valor sumado:   11\n",
      "Valor sumado:   13\n",
      "Valor sumado:   15\n",
      "Valor sumado:   17\n",
      "Valor sumado:   19\n",
      "Valor sumado:   21\n",
      "Valor sumado:   23\n",
      "Valor sumado:   25\n",
      "Valor sumado:   27\n",
      "Valor sumado:   29\n",
      "Valor sumado:   31\n",
      "Valor sumado:   33\n",
      "Valor sumado:   35\n",
      "Valor sumado:   37\n",
      "Valor sumado:   39\n",
      "Valor sumado:   41\n",
      "Valor sumado:   43\n",
      "Valor sumado:   45\n",
      "Valor sumado:   47\n",
      "Valor sumado:   49\n",
      "Valor sumado:   51\n",
      "Valor sumado:   53\n",
      "Valor sumado:   55\n",
      "Valor sumado:   57\n",
      "Valor sumado:   59\n",
      "Valor sumado:   61\n",
      "Valor sumado:   63\n",
      "Valor sumado:   65\n",
      "Valor sumado:   67\n",
      "Valor sumado:   69\n",
      "Valor sumado:   71\n",
      "Valor sumado:   73\n",
      "Valor sumado:   75\n",
      "Valor sumado:   77\n",
      "Valor sumado:   79\n",
      "Valor sumado:   81\n",
      "Valor sumado:   83\n",
      "Valor sumado:   85\n",
      "Valor sumado:   87\n",
      "Valor sumado:   89\n",
      "Valor sumado:   91\n",
      "Valor sumado:   93\n",
      "Valor sumado:   95\n",
      "Valor sumado:   97\n",
      "Valor sumado:   99\n",
      "Resultado total:  2500\n"
     ]
    },
    {
     "data": {
      "text/plain": [
       "2500"
      ]
     },
     "execution_count": 1,
     "metadata": {},
     "output_type": "execute_result"
    }
   ],
   "source": [
    "#1. Una funcion es un bloque de codigo que realiza ua tarea especifica, la cual puede ser reutilizada varias veces en un codigo al invocarla o llamarla, estas estan compuestas por un nombre, parametros, cuerpo y un valor de retorno.\n",
    "\n",
    "\n",
    "# Espacio para desarrollar el código requerido, recuerde agregar algunos\n",
    "# comentarios breves sobre su funcionamiento.\n",
    "\n",
    "def sum_impares(numeros): #definicion de la funcion con el parametro numeros\n",
    "    resultado = 0\n",
    "\n",
    "    for i in range(numeros):  #Con este for se maneja un interado en el rango de numeros, mientras va iterando revisa si el iterador es un impar, y si lo es muestra y al final suma todos los impares\n",
    "        if i % 2 != 0:\n",
    "            resultado += i\n",
    "\n",
    "            print(\"Valor sumado:  \", i)\n",
    "\n",
    "    print(\"Resultado total: \", resultado)\n",
    "\n",
    "    return resultado\n",
    "sum_impares(101)\n",
    "\n",
    "\n"
   ]
  },
  {
   "cell_type": "markdown",
   "id": "a11871f3",
   "metadata": {},
   "source": [
    "# Actividad: Diseñe una función para codificar strings y otra para decodificar strings.\n",
    "\n",
    "1. Revise documentación relacionada a los procesos de encriptación, explique brevemente como funcionan.\n",
    "2. Ambas funciones deben tener como entrada un string y una ¨Clave\", la ¨Clave¨ será usada para codificar y decodificar.\n",
    "3. El desarrollo de está actividad esta abierto a multiples soluciones, por favor sea original en su respuesta.\n"
   ]
  },
  {
   "cell_type": "code",
   "execution_count": 2,
   "id": "1e7a5371",
   "metadata": {},
   "outputs": [],
   "source": [
    "# Espacio para desarrollar la actividad, si tienes alguna duda o comentario adicional\n",
    "# lo puedes dejar planteado acá.\n",
    "\n",
    "\n",
    "\n",
    "def codif_string(string_entrada, clave):\n",
    "    codif_string = ''\n",
    "\n",
    "    for i in string_entrada:\n",
    "        codif_i = chr(ord(i) + int(clave)) \n",
    "        codif_string += codif_i\n",
    "    return codif_string\n",
    "\n",
    "def decodif_string(codif_string, clave):\n",
    "    decodif_string = ''\n",
    "\n",
    "    for i in codif_string:\n",
    "        decodif_i = chr(ord(i) - int(clave))  \n",
    "        decodif_string += decodif_i\n",
    "    return decodif_string\n",
    "\n",
    "string_codificable = input(\"Ingrese mensaje a codificar: \")\n",
    "clave = input(\"Ingrese el valor de la clave (Ingrese un numero entero): \")\n",
    "\n",
    "codif_string = codif_string(string_codificable, clave)\n",
    "print(\"Mensaje original: \", string_codificable)\n",
    "print(\"Mensaje codificado: \", codif_string)\n",
    "\n",
    "decodif_string = decodif_string(codif_string, clave)\n",
    "print(\"Mensaje decodificado: \", decodif_string)\n",
    "\n",
    "\n",
    "\n",
    "\n"
   ]
  },
  {
   "cell_type": "markdown",
   "id": "a207d974",
   "metadata": {},
   "source": [
    "\n",
    "# Actividad: Diseñe y codifique una función.\n",
    "\n",
    "1. Diseñe una función que revise el contenido de una carpeta, la mision de esta funcion es revisar todas las carpetas existentes y obtener los nommbres de los archivos contenidos.\n",
    "2. Considere que dentro de cada carpete pueden existir otras carpetas.\n",
    "3. Todas las carpetas deben ser revisadas.\n",
    "4. Con la ejecucion de la siguiente celda se crearan las carpetas y los archivos.\n",
    "5. Es posible que debas considerar el uso de una función recursiva."
   ]
  },
  {
   "cell_type": "code",
   "execution_count": 3,
   "id": "b4ac1d5a",
   "metadata": {},
   "outputs": [
    {
     "name": "stdout",
     "output_type": "stream",
     "text": [
      "Carpeta_principal\n",
      "Carpeta_principal/folder_3\n",
      "Carpeta_principal/folder_4\n",
      "Carpeta_principal/folder_9\n",
      "Carpeta_principal/folder_10\n",
      "Carpeta_principal/folder_11\n",
      "Carpeta_principal\\folder_10\n",
      "Carpeta_principal\\folder_10/folder_3\n",
      "Carpeta_principal\\folder_10/folder_6\n",
      "Carpeta_principal\\folder_10/folder_7\n",
      "Carpeta_principal\\folder_10/folder_8\n",
      "Carpeta_principal\\folder_10/folder_10\n",
      "Carpeta_principal\\folder_10/folder_11\n",
      "Carpeta_principal\\folder_10\\folder_10\n",
      "Carpeta_principal\\folder_10\\folder_10/folder_0\n",
      "Carpeta_principal\\folder_10\\folder_10/folder_4\n",
      "Carpeta_principal\\folder_10\\folder_10/folder_6\n",
      "Carpeta_principal\\folder_10\\folder_10/folder_7\n",
      "Carpeta_principal\\folder_10\\folder_10/folder_12\n",
      "Carpeta_principal\\folder_10\\folder_10\\folder_0\n",
      "Carpeta_principal\\folder_10\\folder_10\\folder_12\n",
      "Carpeta_principal\\folder_10\\folder_10\\folder_4\n",
      "Carpeta_principal\\folder_10\\folder_10\\folder_6\n",
      "Carpeta_principal\\folder_10\\folder_10\\folder_7\n",
      "Carpeta_principal\\folder_10\\folder_11\n",
      "Carpeta_principal\\folder_10\\folder_3\n",
      "Carpeta_principal\\folder_10\\folder_6\n",
      "Carpeta_principal\\folder_10\\folder_7\n",
      "Carpeta_principal\\folder_10\\folder_8\n",
      "Carpeta_principal\\folder_11\n",
      "Carpeta_principal\\folder_3\n",
      "Carpeta_principal\\folder_4\n",
      "Carpeta_principal\\folder_9\n"
     ]
    }
   ],
   "source": [
    "import os\n",
    "import random\n",
    "\n",
    "def guardar_archivo(text_content, file_path):\n",
    "    with open(file_path, 'w') as file:\n",
    "        # Write the text content to the file\n",
    "        file.write(text_content)\n",
    "\n",
    "\n",
    "if os.path.exists(\"Carpeta_principal\"):\n",
    "    os.system(f'rm -r \"Carpeta_principal\"')\n",
    "\n",
    "os.mkdir(\"Carpeta_principal\")\n",
    "# Inicialización\n",
    "\n",
    "\n",
    "\n",
    "def crear_carpetas(ruta_actual):\n",
    "    global numeracion_del_archivo, numero_de_sub_carpetas\n",
    "    numero_de_archivos_o_carpetas = random.randint(0,15) # genración de numero aleatorio entre 0 y 15.\n",
    "    print(ruta_actual)\n",
    "    if numero_de_sub_carpetas < max_carpetas:\n",
    "        for n in range(0, numero_de_archivos_o_carpetas):\n",
    "\n",
    "            numero_aleatorio_2 = random.randint(0,2) # número aleatoria entre 0 y 1.\n",
    "            if numero_aleatorio_2 == 0:\n",
    "                os.mkdir(ruta_actual +'/'+ 'folder_{}'.format(n) )\n",
    "                print(ruta_actual +'/'+ 'folder_{}'.format(n))\n",
    "            else:\n",
    "                contenido_del_archivo = \"Contenido_{}\".format(numeracion_del_archivo)                \n",
    "                ruta_del_archivo = ruta_actual + '/' + \"archivo_{}.text\".format(numeracion_del_archivo)\n",
    "#                 print(\"ruta_del_archivo: \", ruta_del_archivo)\n",
    "                guardar_archivo(contenido_del_archivo, ruta_del_archivo)\n",
    "                numeracion_del_archivo += 1\n",
    "                \n",
    "        lista_de_nuevas_carpetas = [f.path for f in os.scandir(ruta_actual) if f.is_dir()] # Busqueda de nueva carpeta\n",
    "\n",
    "        numero_de_sub_carpetas += 1\n",
    "        for carpeta in lista_de_nuevas_carpetas:\n",
    "            crear_carpetas(carpeta)\n",
    "        \n",
    "max_carpetas = 4\n",
    "numeracion_del_archivo = 0\n",
    "numero_de_sub_carpetas = 0\n",
    "ruta_actual = \"Carpeta_principal\"\n",
    "crear_carpetas(ruta_actual)"
   ]
  },
  {
   "cell_type": "code",
   "execution_count": 4,
   "id": "a4f925a4",
   "metadata": {},
   "outputs": [],
   "source": [
    "# Celda para desarrollar \n",
    "import os\n",
    "\n",
    "def obtener_nombres_archivos(carpeta): #DE\n",
    "    nombres_archivos = []\n",
    "    for elemento in os.listdir(carpeta):\n",
    "        ruta_elemento = os.path.join(carpeta, elemento)\n",
    "        if os.path.isfile(ruta_elemento):  #Se Verifica si es un archivo\n",
    "            nombres_archivos.append(elemento)\n",
    "        elif os.path.isdir(ruta_elemento):  #Se Verific si es una carpeta\n",
    "            nombres_archivos.extend(obtener_nombres_archivos(ruta_elemento))  #Se llama recursivamente para las subcarpetas\n",
    "    return nombres_archivos\n",
    "\n",
    "carpeta_principal = \"Carpeta_principal\"  #ubicacion de la carpeta principal\n",
    "archivos_en_carpeta_principal = obtener_nombres_archivos(carpeta_principal)\n",
    "\n",
    "print(\"Archivos en la carpeta principal:\")\n",
    "for archivo in archivos_en_carpeta_principal:\n",
    "    print(archivo)\n",
    "\n",
    "\n",
    "\n",
    "\n",
    "\n",
    "\n",
    "\n"
   ]
  },
  {
   "cell_type": "markdown",
   "id": "26a6bb9e",
   "metadata": {},
   "source": [
    "# Actividad: Crear diccionarios y guardarlos como archivo JSON.\n",
    "\n",
    "De la unidad 11 sección 4.6 revise el ejemplo mostrado.\n",
    "\n",
    "Genera un diccionario, sobre la información que deseas guardar como base de datos, desarrollo el código necesario para generar el archivo JSON, y también el código para cargar la información del archivo JSON.\n"
   ]
  },
  {
   "cell_type": "code",
   "execution_count": 5,
   "id": "6670eace",
   "metadata": {},
   "outputs": [],
   "source": [
    "# Espacio para desarrollar el código siguiendo las instrucciones.\n",
    "\n",
    "\n",
    "\n",
    "\n",
    "\n",
    "\n",
    "\n",
    "\n",
    "\n",
    "\n",
    "\n",
    "\n",
    "\n",
    "\n"
   ]
  },
  {
   "cell_type": "markdown",
   "id": "fbfb4985",
   "metadata": {},
   "source": [
    "# Actividad: Uso de la funcion Lambda.\n",
    "\n",
    "## Instrucciones\n",
    "\n",
    "1. Escriba una función regular donde se realice una operación.\n",
    "2. Escriba la misma función donde use la expresión lambda.\n",
    "3. Explica brevemente las ventajas de usar la función Lambda.\n"
   ]
  },
  {
   "cell_type": "code",
   "execution_count": 6,
   "id": "fc5b1a43",
   "metadata": {},
   "outputs": [
    {
     "name": "stdout",
     "output_type": "stream",
     "text": [
      "25\n"
     ]
    }
   ],
   "source": [
    "# Espacio para desarrollar el código siguiendo las instrucciones.\n",
    "\n",
    "def multipli_car(a, b):\n",
    "\n",
    "    resultado = a * b\n",
    "\n",
    "    return resultado\n",
    "\n",
    "multipli_car(5, 5)\n",
    "\n",
    "multipli_lamda = lambda a, b: a * b\n",
    "\n",
    "result = multipli_lamda(5, 5)\n",
    "print(result)\n",
    "\n",
    "#Ventajas: 1.Hace que el codigo sea mas facil de leer, debido a que lo reduce.\n",
    "#2. Al ser una funcion anonima, se pueden declarar donde mismo se necesite\n",
    "#entre otras\n",
    "\n",
    "\n",
    "\n"
   ]
  },
  {
   "cell_type": "markdown",
   "id": "98938d2d",
   "metadata": {},
   "source": [
    "# Actividad: Usar la función map para duplicar el valor de cada uno de los elementos contenidos.\n",
    "\n",
    "## Instrucciones\n",
    "\n",
    "1. Describa brevemente el funcionamiento y las ventajas de usar la función map\n",
    "2. Escriba el código en el siguiente espacio."
   ]
  },
  {
   "cell_type": "code",
   "execution_count": 8,
   "id": "a35ef1b7",
   "metadata": {},
   "outputs": [
    {
     "name": "stdout",
     "output_type": "stream",
     "text": [
      "[2, 4, 6, 8, 10, 12, 14, 16, 18]\n"
     ]
    }
   ],
   "source": [
    "#Map toma dos argumentos, itera sobre los elementos de las secuencias iterables, aplicando la funcion a cada elemento, por ultimo, devuelve un iterable que continene los resultados de aplicar la funcion a cada elemento\n",
    "# Espacio para desarrollar el código.\n",
    "\n",
    "elementos = [1, 2, 3, 4 , 5 , 6 , 7, 8, 9]\n",
    "\n",
    "duplicacion = map(lambda x: x * 2, elementos)\n",
    "\n",
    "print(list(duplicacion))\n",
    "\n",
    "\n",
    "\n",
    "\n"
   ]
  }
 ],
 "metadata": {
  "kernelspec": {
   "display_name": "Python 3 (ipykernel)",
   "language": "python",
   "name": "python3"
  },
  "language_info": {
   "codemirror_mode": {
    "name": "ipython",
    "version": 3
   },
   "file_extension": ".py",
   "mimetype": "text/x-python",
   "name": "python",
   "nbconvert_exporter": "python",
   "pygments_lexer": "ipython3",
   "version": "3.12.1"
  }
 },
 "nbformat": 4,
 "nbformat_minor": 5
}
