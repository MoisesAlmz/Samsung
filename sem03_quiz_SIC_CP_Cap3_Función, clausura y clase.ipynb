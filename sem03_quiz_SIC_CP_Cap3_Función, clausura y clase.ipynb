{
 "cells": [
  {
   "cell_type": "markdown",
   "id": "5ad8356f",
   "metadata": {},
   "source": [
    "# Coding and Programming\n",
    "\n",
    "## Capítulo 3\n",
    "\n",
    "### Función, clausura y clase\n",
    "\n",
    "- **Unidad 17.** Función\n",
    "- **Unidad 18.** Llamada a la función de recurrencia.\n",
    "- **Unidad 19.** Lambda\n",
    "- **Unidad 20.** Clausura\n",
    "- **Unidad 21.** Clase\n",
    "\n",
    "# Quiz 3"
   ]
  },
  {
   "cell_type": "markdown",
   "id": "a94ec368",
   "metadata": {},
   "source": [
    "___"
   ]
  },
  {
   "cell_type": "markdown",
   "id": "a11871f3",
   "metadata": {},
   "source": [
    "## Q 17-01\n",
    "\n",
    "Reciba las coordenadas `(x1, y1), (x2, y2)` de dos puntos del usuario e imprima la distancia entre los dos puntos de la siguiente manera. Para hacer esto, implemente la función `distancia(x1, y1, x2, y2)`.\n",
    "\n",
    "\n",
    "**Pauta de código:** consulte la fórmula para encontrar la distancia entre dos puntos.\n"
   ]
  },
  {
   "cell_type": "code",
   "execution_count": 2,
   "id": "3a6d2464",
   "metadata": {},
   "outputs": [
    {
     "name": "stdout",
     "output_type": "stream",
     "text": [
      "14.142135623730951\n"
     ]
    }
   ],
   "source": [
    "#formula ((x2 - x1)² + (y2 - y1)²)^0.5\n",
    "\n",
    "def distancia(x1, y1, x2, y2):\n",
    "    resultado = ((x2 - x1)**2 + (y2 - y1)**2)**0.5\n",
    "    return resultado\n",
    "\n",
    "in_x1 = int (input(\"Ingrese el valor de x1: \"))\n",
    "in_y1 = int (input(\"Ingrese el valor de y1: \"))\n",
    "in_x2 = int (input(\"Ingrese el valor de x2: \"))\n",
    "in_y2 = int (input(\"Ingrese el valor de y2: \"))\n",
    "\n",
    "resultado = distancia(in_x1, in_y1, in_x2, in_y2)\n",
    "print(resultado)"
   ]
  },
  {
   "cell_type": "markdown",
   "id": "19848cf5",
   "metadata": {},
   "source": []
  },
  {
   "cell_type": "markdown",
   "id": "a207d974",
   "metadata": {},
   "source": [
    "## Q 18-01\n",
    "\n",
    "Un palíndromo es una oración, palabra o cadena que es lo mismo que leer cualquier carácter de forma consecutiva.\n",
    "\n",
    "Por ejemplo, hay palabras como level, kayak, salas, somos, radar, reconocer.\n",
    "\n",
    "Usemos una llamada recursiva para determinar el palíndromo.\n",
    "\n",
    "Defina una función llamada `is_palindrome` y escriba un programa que reciba una cadena del usuario e imprima si el palindrome es correcto o no.\n",
    "\n",
    "**Pauta de código:** Llame a la función `is_palindrome` dentro de la función `is_palindrome`"
   ]
  },
  {
   "cell_type": "code",
   "execution_count": 5,
   "id": "372ffe67",
   "metadata": {},
   "outputs": [
    {
     "name": "stdout",
     "output_type": "stream",
     "text": [
      "True\n"
     ]
    }
   ],
   "source": [
    "def is_palindrome(palabra):\n",
    "    palabra_revez = \"\"\n",
    "    for letra in palabra:\n",
    "        palabra_revez = letra + palabra_revez\n",
    "    \n",
    "    if palabra_revez == palabra:\n",
    "        resultado = \"True\"\n",
    "    \n",
    "    else: resultado = \"False\"\n",
    "\n",
    "    return resultado\n",
    "\n",
    "palabra_insert = str (input(\"Ingrese palabra a evaluar: \"))\n",
    "\n",
    "confirmacion = is_palindrome(palabra_insert)\n",
    "\n",
    "print(confirmacion)"
   ]
  },
  {
   "cell_type": "markdown",
   "id": "d7825109",
   "metadata": {},
   "source": []
  },
  {
   "cell_type": "markdown",
   "id": "fbfb4985",
   "metadata": {},
   "source": [
    "## Q 19-01\n",
    "\n",
    "\n",
    "Después de poner una lista llamada `n_list` con valores de `[10, 20, 30]` en la función `map`.\n",
    "\n",
    "```\n",
    "n_list = [10,20,30]\n",
    "twice  = list(map(lambda x: x*2, n_list))\n",
    "triple = list(map(lambda x: x*3, n_list))\n",
    "```\n",
    "\n",
    "Indique el contenido de las variables `twice` y `triple`."
   ]
  },
  {
   "cell_type": "code",
   "execution_count": null,
   "id": "0070500f",
   "metadata": {},
   "outputs": [],
   "source": [
    "twice = [20, 40, 60]\n",
    "triple = [30, 60, 90]"
   ]
  },
  {
   "cell_type": "markdown",
   "id": "2cdc7344",
   "metadata": {},
   "source": []
  },
  {
   "cell_type": "markdown",
   "id": "98938d2d",
   "metadata": {},
   "source": [
    "## Q 20-01\n",
    "\n",
    "En el siguiente código, espere qué valor se incluye finalmente en `num_list`. Calcule el resultado esperado a mano.\n",
    "\n",
    "**Pauta de codificación:** Escriba 5 veces la declaración `for`. Espere este resultado y envíe el resultado.\n",
    "\n",
    "```\n",
    "def calc_digit(n):\n",
    "    def findal(digit):\n",
    "        return digit**n\n",
    "    return final\n",
    "\n",
    "num_list = []\n",
    "for num in range(1,6):\n",
    "    num_list.append( calc_digit(num) )\n",
    "    print( num_list[num-1](num) )\n",
    "```"
   ]
  },
  {
   "cell_type": "code",
   "execution_count": 7,
   "id": "482f341f",
   "metadata": {},
   "outputs": [
    {
     "name": "stdout",
     "output_type": "stream",
     "text": [
      "1\n",
      "4\n",
      "27\n",
      "256\n",
      "3125\n"
     ]
    }
   ],
   "source": [
    "def calc_digit(n):\n",
    "    def final(digit):\n",
    "        return digit**n\n",
    "    return final\n",
    "\n",
    "num_list = []\n",
    "for num in range(1,6):\n",
    "    num_list.append( calc_digit(num) )\n",
    "    print( num_list[num-1](num) )\n"
   ]
  },
  {
   "cell_type": "markdown",
   "id": "d3ece88b",
   "metadata": {},
   "source": [
    "## Q 21-01\n",
    "\n",
    "Implemente las funciones de multiplicación (*) y división (/) de dos vectores usando los métodos `mul` y `truediv` aprendidos en la **unidad 21**. Suponiendo que `v1` es `(30, 40)` y `v2` es `(10, 20)`, codifique (escriba la declaración de salida) para devolver el siguiente resultado como resultado de la multiplicación y división de dos vectores.\n",
    "\n",
    "\n",
    "**Pauta de codificación:** escriba código que amplíe la funcionalidad de la clase `Vector2D` que aprendió en este capítulo."
   ]
  },
  {
   "cell_type": "markdown",
   "id": "1d58d47c",
   "metadata": {},
   "source": []
  },
  {
   "cell_type": "markdown",
   "id": "2717ce09",
   "metadata": {},
   "source": [
    "___"
   ]
  },
  {
   "cell_type": "markdown",
   "id": "10514335",
   "metadata": {},
   "source": [
    "# Fin"
   ]
  }
 ],
 "metadata": {
  "kernelspec": {
   "display_name": "Python 3 (ipykernel)",
   "language": "python",
   "name": "python3"
  },
  "language_info": {
   "codemirror_mode": {
    "name": "ipython",
    "version": 3
   },
   "file_extension": ".py",
   "mimetype": "text/x-python",
   "name": "python",
   "nbconvert_exporter": "python",
   "pygments_lexer": "ipython3",
   "version": "3.12.1"
  }
 },
 "nbformat": 4,
 "nbformat_minor": 5
}
